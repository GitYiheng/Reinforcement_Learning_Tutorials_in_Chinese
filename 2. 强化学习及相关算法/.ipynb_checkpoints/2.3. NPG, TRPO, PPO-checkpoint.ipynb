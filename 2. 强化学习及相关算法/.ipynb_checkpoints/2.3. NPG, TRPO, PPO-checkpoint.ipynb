{
 "cells": [
  {
   "cell_type": "markdown",
   "metadata": {},
   "source": [
    "# Two Limitations of \"Vanilla\" Policy Gradient Methods"
   ]
  },
  {
   "cell_type": "markdown",
   "metadata": {},
   "source": [
    "- Hard to choose stepsizes\n",
    "    - Input data is nonstationary due to changing policy: observation and reward distributions change\n",
    "    - Bad step is more damaging than in supervised learning, since it affects visitation distribution\n",
    "        - Step too far $\\rightarrow$ bad policy\n",
    "        - Next batch: collected under bad policy\n",
    "        - Cannot recover - collapse in performance\n",
    "- Sample efficiency\n",
    "    - Only one gradient step per environment sample\n",
    "    - Dependent on scaling of coordinates"
   ]
  },
  {
   "cell_type": "markdown",
   "metadata": {},
   "source": [
    "# Reducing Reinforcement Learning to Optimization"
   ]
  },
  {
   "cell_type": "markdown",
   "metadata": {},
   "source": [
    "- Much of modern ML: reduce learning to numerical optimization problem\n",
    "    - Supervised learning: minimize training error\n",
    "- RL: how to *use all data so far and compute the best policy*?\n",
    "    - Q-learning: can (in principle) include all transitions seen so far, however, we're optimizing the wrong objective\n",
    "    - Policy gradient methods: yes stochastic gradients, but no optimization problem*\n",
    "    - This lecture: write down an optimization problem that allows you to do a small update to policy $\\pi$ based on data sampled from $\\pi$ (*on-policy* data)"
   ]
  },
  {
   "cell_type": "markdown",
   "metadata": {},
   "source": [
    "# 初次编辑日期 (Initial Edit Date)"
   ]
  },
  {
   "cell_type": "markdown",
   "metadata": {},
   "source": [
    "2018年5月30日"
   ]
  },
  {
   "cell_type": "markdown",
   "metadata": {},
   "source": [
    "# 参考文献 (References)"
   ]
  },
  {
   "cell_type": "markdown",
   "metadata": {},
   "source": [
    "[1] Deep RL Bootcamp Lecture 5: Natural Policy Gradients, TRPO, PPO, YouTube, https://www.youtube.com/watch?v=xvRrgxcpaHY"
   ]
  }
 ],
 "metadata": {
  "kernelspec": {
   "display_name": "Python 3",
   "language": "python",
   "name": "python3"
  },
  "language_info": {
   "codemirror_mode": {
    "name": "ipython",
    "version": 3
   },
   "file_extension": ".py",
   "mimetype": "text/x-python",
   "name": "python",
   "nbconvert_exporter": "python",
   "pygments_lexer": "ipython3",
   "version": "3.6.5"
  }
 },
 "nbformat": 4,
 "nbformat_minor": 2
}
