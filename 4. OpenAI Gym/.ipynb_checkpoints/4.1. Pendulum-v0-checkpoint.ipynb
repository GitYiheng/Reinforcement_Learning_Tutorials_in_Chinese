{
 "cells": [
  {
   "cell_type": "markdown",
   "metadata": {},
   "source": [
    "# Pendulum-v0"
   ]
  },
  {
   "cell_type": "markdown",
   "metadata": {},
   "source": [
    "## Documentation"
   ]
  },
  {
   "cell_type": "markdown",
   "metadata": {},
   "source": [
    "https://github.com/openai/gym/wiki/Pendulum-v0"
   ]
  },
  {
   "cell_type": "markdown",
   "metadata": {},
   "source": [
    "## Description"
   ]
  },
  {
   "cell_type": "markdown",
   "metadata": {},
   "source": [
    "Try to keep a frictionless pendulum standing up."
   ]
  },
  {
   "cell_type": "markdown",
   "metadata": {},
   "source": [
    "## Environment"
   ]
  },
  {
   "cell_type": "markdown",
   "metadata": {},
   "source": [
    "### Observation"
   ]
  },
  {
   "cell_type": "markdown",
   "metadata": {},
   "source": [
    "Type: Box(3)"
   ]
  },
  {
   "cell_type": "markdown",
   "metadata": {},
   "source": [
    "| Num | Observation | Min | Max |\n",
    "| --- | --- | --- | --- |\n",
    "| 0 | cos($\\theta$) | -1.0 | 1.0 |\n",
    "| 1 | sin($\\theta$) | -1.0 | 1.0 |\n",
    "| 2 | $\\dot{\\theta}$ | -8.0 | 8.0 |"
   ]
  },
  {
   "cell_type": "markdown",
   "metadata": {},
   "source": [
    "### Actions"
   ]
  },
  {
   "cell_type": "markdown",
   "metadata": {},
   "source": [
    "Type: Box(1)"
   ]
  },
  {
   "cell_type": "markdown",
   "metadata": {},
   "source": [
    "| Num | Action | Min | Max |\n",
    "| --- | --- | --- | --- |\n",
    "| 0 | Joint effort | -2.0 | 2.0 |"
   ]
  },
  {
   "cell_type": "markdown",
   "metadata": {},
   "source": [
    "### Reward"
   ]
  },
  {
   "cell_type": "markdown",
   "metadata": {},
   "source": [
    "The precise equation for reward:\n",
    "\n",
    "$-(\\theta^2 + 0.1\\dot{\\theta}^2+0.001a^2)$\n",
    "\n",
    "$\\theta$ is normalized between $-\\pi$ and $\\pi$. Therefore, the lowest cost is $-(\\pi^2 + 0.1\\times 8^2+0.001\\times 2^2)=-16.2736044$, and the highest cost is $0$. In essence, the goal is to remain at zero angle (verticle), with the least rotational velocity, and the least effort."
   ]
  },
  {
   "cell_type": "markdown",
   "metadata": {},
   "source": [
    "### Starting State"
   ]
  },
  {
   "cell_type": "markdown",
   "metadata": {},
   "source": [
    "Rnadom angle from $-\\pi$ to $\\pi$, and random velocity between $-1$ and $1$."
   ]
  },
  {
   "cell_type": "markdown",
   "metadata": {},
   "source": [
    "### Episode Termination"
   ]
  },
  {
   "cell_type": "markdown",
   "metadata": {},
   "source": [
    "There is no specified termination. Adding a maximum number of steps might be a good idea."
   ]
  },
  {
   "cell_type": "markdown",
   "metadata": {},
   "source": [
    "### Solved Requirements"
   ]
  },
  {
   "cell_type": "markdown",
   "metadata": {},
   "source": [
    "Not yet specified"
   ]
  },
  {
   "cell_type": "markdown",
   "metadata": {},
   "source": [
    "# Test Code"
   ]
  },
  {
   "cell_type": "code",
   "execution_count": 3,
   "metadata": {},
   "outputs": [],
   "source": [
    "# Import OpenAI Gym\n",
    "import gym"
   ]
  },
  {
   "cell_type": "code",
   "execution_count": 4,
   "metadata": {},
   "outputs": [
    {
     "name": "stderr",
     "output_type": "stream",
     "text": [
      "[2018-05-01 00:44:59,916] Making new env: Pendulum-v0\n"
     ]
    }
   ],
   "source": [
    "# Make single pendulum swing-up environment\n",
    "env = gym.make('Pendulum-v0')"
   ]
  },
  {
   "cell_type": "code",
   "execution_count": 5,
   "metadata": {},
   "outputs": [
    {
     "data": {
      "text/plain": [
       "array([ 0.70205368,  0.71212403, -0.3196691 ])"
      ]
     },
     "execution_count": 5,
     "metadata": {},
     "output_type": "execute_result"
    }
   ],
   "source": [
    "# Restart the environment and return the state\n",
    "env.reset()"
   ]
  },
  {
   "cell_type": "code",
   "execution_count": 25,
   "metadata": {},
   "outputs": [
    {
     "name": "stdout",
     "output_type": "stream",
     "text": [
      "Box(3,)\n"
     ]
    }
   ],
   "source": [
    "# Get the box object of observation_space\n",
    "box_obs = env.observation_space\n",
    "print(box_obs)"
   ]
  },
  {
   "cell_type": "code",
   "execution_count": 13,
   "metadata": {
    "scrolled": true
   },
   "outputs": [
    {
     "ename": "SyntaxError",
     "evalue": "invalid syntax (<ipython-input-13-6e421564a4e5>, line 9)",
     "output_type": "error",
     "traceback": [
      "\u001b[1;36m  File \u001b[1;32m\"<ipython-input-13-6e421564a4e5>\"\u001b[1;36m, line \u001b[1;32m9\u001b[0m\n\u001b[1;33m    box_obs.\u001b[0m\n\u001b[1;37m            ^\u001b[0m\n\u001b[1;31mSyntaxError\u001b[0m\u001b[1;31m:\u001b[0m invalid syntax\n"
     ]
    }
   ],
   "source": [
    "# Press tab to see a list of attributes\n",
    "# box.contains\n",
    "# box.high\n",
    "# box.low\n",
    "# box.sample\n",
    "# box.shape\n",
    "# box.from_jsonable\n",
    "# box.to_jsonable\n",
    "box_obs."
   ]
  },
  {
   "cell_type": "code",
   "execution_count": 17,
   "metadata": {},
   "outputs": [
    {
     "data": {
      "text/plain": [
       "Box(1,)"
      ]
     },
     "execution_count": 17,
     "metadata": {},
     "output_type": "execute_result"
    }
   ],
   "source": [
    "# Get the box object of action_space\n",
    "box_act = env.action_space\n",
    "print(box_act)"
   ]
  },
  {
   "cell_type": "code",
   "execution_count": 18,
   "metadata": {},
   "outputs": [
    {
     "ename": "SyntaxError",
     "evalue": "invalid syntax (<ipython-input-18-22d5c972d96f>, line 9)",
     "output_type": "error",
     "traceback": [
      "\u001b[1;36m  File \u001b[1;32m\"<ipython-input-18-22d5c972d96f>\"\u001b[1;36m, line \u001b[1;32m9\u001b[0m\n\u001b[1;33m    box_act.\u001b[0m\n\u001b[1;37m            ^\u001b[0m\n\u001b[1;31mSyntaxError\u001b[0m\u001b[1;31m:\u001b[0m invalid syntax\n"
     ]
    }
   ],
   "source": [
    "# Press tab to see a list of attributes\n",
    "# box.contains\n",
    "# box.high\n",
    "# box.low\n",
    "# box.sample\n",
    "# box.shape\n",
    "# box.from_jsonable\n",
    "# box.to_jsonable\n",
    "box_act."
   ]
  },
  {
   "cell_type": "code",
   "execution_count": 24,
   "metadata": {},
   "outputs": [
    {
     "name": "stdout",
     "output_type": "stream",
     "text": [
      "[0.3866339  0.92223328 2.76483782]\n",
      "-1.5414611701988161\n",
      "False\n"
     ]
    }
   ],
   "source": [
    "# Move one step forward\n",
    "# observation, reward, done, info = env.step(action)\n",
    "observation, reward, done, _ = env.step(env.action_space.sample())\n",
    "print(observation)\n",
    "print(reward)\n",
    "print(done)"
   ]
  },
  {
   "cell_type": "code",
   "execution_count": 28,
   "metadata": {},
   "outputs": [
    {
     "name": "stdout",
     "output_type": "stream",
     "text": [
      "Observation:  [-0.25063078  0.96808275  5.22360195]  Reward:  -4.241802401381725  Done:  False\n"
     ]
    }
   ],
   "source": [
    "# Play one episode\n",
    "iters = 0 # iterations\n",
    "MAX_ITERS = 1000 # Stop at max number of iterations\n",
    "done = False # Not done at start\n",
    "if not done and iters < MAX_ITERS:\n",
    "    observation, reward, done, _ = env.step(env.action_space.sample())\n",
    "    if iters % 10 == 0:\n",
    "        print(\"Observation: \", observation, \" Reward: \", reward, \" Done: \", done)\n",
    "    iters += 1 # Increment the counter"
   ]
  },
  {
   "cell_type": "markdown",
   "metadata": {},
   "source": [
    "# 最初编辑时间"
   ]
  },
  {
   "cell_type": "markdown",
   "metadata": {},
   "source": [
    "2018年5月1日"
   ]
  },
  {
   "cell_type": "markdown",
   "metadata": {},
   "source": [
    "# 参考文献"
   ]
  },
  {
   "cell_type": "markdown",
   "metadata": {},
   "source": [
    "[1] https://github.com/openai/gym/wiki/Pendulum-v0\n",
    "\n",
    "[2] https://www.udemy.com/deep-reinforcement-learning-in-python"
   ]
  }
 ],
 "metadata": {
  "kernelspec": {
   "display_name": "Python 3",
   "language": "python",
   "name": "python3"
  },
  "language_info": {
   "codemirror_mode": {
    "name": "ipython",
    "version": 3
   },
   "file_extension": ".py",
   "mimetype": "text/x-python",
   "name": "python",
   "nbconvert_exporter": "python",
   "pygments_lexer": "ipython3",
   "version": "3.6.5"
  }
 },
 "nbformat": 4,
 "nbformat_minor": 2
}
