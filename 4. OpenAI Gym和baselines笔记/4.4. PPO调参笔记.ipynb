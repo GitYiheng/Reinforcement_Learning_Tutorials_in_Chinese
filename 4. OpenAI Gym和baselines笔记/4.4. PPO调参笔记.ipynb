{
 "cells": [
  {
   "cell_type": "markdown",
   "metadata": {},
   "source": [
    "# 4个主要脚本"
   ]
  },
  {
   "cell_type": "markdown",
   "metadata": {},
   "source": [
    "- run_gym.py: 主函数\n",
    "- pposgd_simple.py: PPO算法的SGD实现\n",
    "- mlp_policy.py: 多层感知器策略，主要用于非视觉传感输入\n",
    "- cnn_policy.py: CNN策略，主要用于视觉传感输入"
   ]
  },
  {
   "cell_type": "markdown",
   "metadata": {},
   "source": [
    "# 可调参数"
   ]
  },
  {
   "cell_type": "markdown",
   "metadata": {},
   "source": [
    "## run_gym.py"
   ]
  },
  {
   "cell_type": "code",
   "execution_count": null,
   "metadata": {},
   "outputs": [],
   "source": [
    "import argparse\n",
    "\n",
    "def main():\n",
    "    parser = argparse.ArgumentParser(formatter_class=argparse.ArgumentDefaultsHelpFormatter)\n",
    "    parser.add_argument('--env', help='environment ID', type=str, default='Pendulum-v0')\n",
    "    parser.add_argument('--seed', help='RNG seed', type=int, default=None)\n",
    "    parser.add_argument('--num-timesteps', type=int, default=int(1e6))\n",
    "    args = parser.parse_args()\n",
    "    ...\n",
    "    train(args.env, num_timesteps=args.num_timesteps, seed=args.seed)"
   ]
  },
  {
   "cell_type": "markdown",
   "metadata": {},
   "source": [
    "- argparser让用户可以通过命令行接口来输入参数\n",
    "- --env: 环境标识\n",
    "- --seed: 伪随机数生成器初始值，用相同的seed，每次的随机数都会一样\n",
    "- --num-timesteps: 每个episode中的一个step算一个timestep，num-timesteps表示所有episode的step之和"
   ]
  },
  {
   "cell_type": "code",
   "execution_count": null,
   "metadata": {},
   "outputs": [],
   "source": [
    "def train(...):\n",
    "    from baselines.ppo1 import mlp_policy, pposgd_simple\n",
    "    ..."
   ]
  },
  {
   "cell_type": "markdown",
   "metadata": {},
   "source": [
    "- pposgd_simple是PPO的算法实现，是必须导入的。\n",
    "- 如果是基于视觉的任务，一般会用CNN（卷积神经网络），那么就要导入cnn_policy。\n",
    "- 如果是非视觉的、基于传感器的任务，一般会用FFNN（前馈神经网络）,那么就要导入mlp_policy。"
   ]
  },
  {
   "cell_type": "code",
   "execution_count": null,
   "metadata": {},
   "outputs": [],
   "source": [
    "U.make_session(num_cpu=1).__enter__()"
   ]
  },
  {
   "cell_type": "markdown",
   "metadata": {},
   "source": [
    "- 给定CPU的数量，这里是1"
   ]
  },
  {
   "cell_type": "code",
   "execution_count": null,
   "metadata": {},
   "outputs": [],
   "source": [
    "def policy_fn(name, ob_space, ac_space):\n",
    "    return mlp_policy.MlpPolicy(name=name, ob_space=ob_space, ac_space=ac_space,\n",
    "        hid_size=64, num_hid_layers=2)"
   ]
  },
  {
   "cell_type": "code",
   "execution_count": null,
   "metadata": {},
   "outputs": [],
   "source": [
    "def learn(env, policy_fn, ...):\n",
    "    ob_space = env.observation_space\n",
    "    ac_space = env.action_space\n",
    "    pi = policy_fn(\"pi\", ob_space, ac_space) # Construct network for new policy\n",
    "    oldpi = policy_fn(\"oldpi\", ob_space, ac_space) # Network for old policy\n",
    "    ..."
   ]
  },
  {
   "cell_type": "markdown",
   "metadata": {},
   "source": [
    "- 这里可以改变的参数只有hid_size和num_hid_layers，分别对应神经网络中每层的神经元数量和隐藏层数。这里我们用了2个隐藏层，每层有64个神经元。\n",
    "- policy_fn函数返还的是一个MlpPolicy，除了num_size和num_hid_layers外的3个变量会在调用pposgd_simple.learn(env, policy_fn, ...)时被自动赋值。\n",
    "- 这3个变量中，name是策略函数的名字，ob_space是观测状态空间，ac_space是动作空间。\n",
    "- ob_space和ac_space都会根据环境env自动赋值，也就是对应着env.observation_space和env.action_space。"
   ]
  },
  {
   "cell_type": "code",
   "execution_count": null,
   "metadata": {},
   "outputs": [],
   "source": [
    "def make_gym_env(env_id, seed):\n",
    "    '''\n",
    "    Create a wrapped, monitored gym.Env for env_id\n",
    "    Here env_id=\"Pendulum-v0\"\n",
    "    '''\n",
    "    env = gym.make(env_id)\n",
    "    env = Monitor(env, logger.get_dir())\n",
    "    if seed is not None:\n",
    "        set_global_seeds(seed)\n",
    "        env.seed(seed)\n",
    "    return env\n",
    "env = make_gym_env(env_id, seed)\n",
    "...\n",
    "env.close()"
   ]
  },
  {
   "cell_type": "code",
   "execution_count": null,
   "metadata": {},
   "outputs": [],
   "source": [
    "def main():\n",
    "    ...\n",
    "    parser.add_argument('--env', help='environment ID', type=str, default='Pendulum-v0')\n",
    "    parser.add_argument('--seed', help='RNG seed', type=int, default=None)\n",
    "    ...\n",
    "    train(args.env, ..., seed=args.seed)"
   ]
  },
  {
   "cell_type": "markdown",
   "metadata": {},
   "source": [
    "- make_gym_env()会返还一个wrapped和monitored的环境\n",
    "- env_id对应着环境的标识，这里的默认值是Pendulum-v0，也可以借由argparser在命令行指定其它的环境，格式是python run_gym.py --env \"CartPole-v0\"\n",
    "- seed是随机数生成器的初始值，用一个整数表示。如果不用seed的话每次生成的结果都会有所不同，用相同seed的话生成的伪随机数都会相同\n",
    "- env.close()会在最后关闭环境"
   ]
  },
  {
   "cell_type": "code",
   "execution_count": null,
   "metadata": {},
   "outputs": [],
   "source": [
    "def train(env_id, num_timesteps, seed):\n",
    "    ...\n",
    "    pposgd_simple.learn(env, policy_fn,\n",
    "            max_timesteps=num_timesteps,\n",
    "            timesteps_per_actorbatch=2048,\n",
    "            cllip_param=0.2, entcoeff=0.00,\n",
    "            optim_epochs=10, optim_stepsize=3e-4, optim_batchsize=64,\n",
    "            gamma=0.995, lam=0.97, schedule='constant',\n",
    "        )"
   ]
  },
  {
   "cell_type": "code",
   "execution_count": null,
   "metadata": {},
   "outputs": [],
   "source": [
    "def main():\n",
    "    ...\n",
    "    train(args.env, num_timesteps=args.num_timesteps, seed=args.seed)\n",
    "\n",
    "if __name__ == '__main__':\n",
    "    main()"
   ]
  },
  {
   "cell_type": "markdown",
   "metadata": {},
   "source": [
    "- train()中的pposgd_simple.learn()是整个算法的核心部分"
   ]
  },
  {
   "cell_type": "markdown",
   "metadata": {},
   "source": [
    "# $\\ldots$未完待续"
   ]
  },
  {
   "cell_type": "markdown",
   "metadata": {},
   "source": [
    "# 初次编辑日期"
   ]
  },
  {
   "cell_type": "markdown",
   "metadata": {},
   "source": [
    "2018年5月2日"
   ]
  },
  {
   "cell_type": "markdown",
   "metadata": {},
   "source": [
    "# 参考文献"
   ]
  },
  {
   "cell_type": "markdown",
   "metadata": {},
   "source": [
    "[1] https://github.com/openai/baselines"
   ]
  }
 ],
 "metadata": {
  "kernelspec": {
   "display_name": "Python 3",
   "language": "python",
   "name": "python3"
  },
  "language_info": {
   "codemirror_mode": {
    "name": "ipython",
    "version": 3
   },
   "file_extension": ".py",
   "mimetype": "text/x-python",
   "name": "python",
   "nbconvert_exporter": "python",
   "pygments_lexer": "ipython3",
   "version": "3.6.5"
  }
 },
 "nbformat": 4,
 "nbformat_minor": 2
}
