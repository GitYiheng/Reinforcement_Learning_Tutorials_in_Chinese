{
 "cells": [
  {
   "cell_type": "markdown",
   "metadata": {},
   "source": [
    "# Step 1: Specify the System"
   ]
  },
  {
   "cell_type": "markdown",
   "metadata": {},
   "source": [
    "The first step is to specify the kinematics (positions, velocities, accelerations of points and orientations, angular velocities, and angular accelerations of reference frames along with kinematic and velocity constraints) in terms of 3D vector expressions. Then the modeler specifies the inertial descriptions of particles and rigid bodies (mass, center of mass, inertia which are scalars, vectors, and dyadics (tensor) respectively). Finally, any loads (forces and torques) that act on the particles and rigid bodies are specified as vectors. All of these equations can be, and typically are, functions of time. The kinematic vectors are of similar form across problems and are governed by the geometry of the problem but the vectors that specify the loads can have any type of non-linear function, i.e. there are thousands of models to describe different kinds of loads: friction, collision, etc."
   ]
  },
  {
   "cell_type": "markdown",
   "metadata": {},
   "source": [
    "The above process is very manual task, with most time spent by the modeler making decisions about the model and ensuring that things are specified precisely and correctly. The process is bound by the human's thinking and reasoning time, not computational time."
   ]
  },
  {
   "cell_type": "markdown",
   "metadata": {},
   "source": [
    "SymPy is very good at this step in terms of computation speed. Even for the most complex problems all of these pieces are typically specified by small expressions. There are two things that could help speed up this process:"
   ]
  },
  {
   "cell_type": "markdown",
   "metadata": {},
   "source": [
    "**Simplification**\n",
    "\n",
    "It is helpful for the modeler to inspect the scalar, vector and dyadic quantities in mathematical before and after operations are performed like dot products, cross products, summation, etc (all of the methods accessible on the sympy.physics.vector.Vector class)."
   ]
  },
  {
   "cell_type": "markdown",
   "metadata": {},
   "source": [
    "**Linear System Solving**\n",
    "\n",
    "It is useful at this step to solve a linear system (Ax=b) symbolically that is formed from the velocity constraint equations. For large sets of velocity constraints this could be a speed impediment to the modeling process but it isn't a primary speed issue."
   ]
  },
  {
   "cell_type": "markdown",
   "metadata": {},
   "source": [
    "**Non-linear System Solving**\n",
    "\n",
    "Problems can also have non-linear kinematic (geometric) constraints. Many times there can't be solve analytically to reduce the order of the system, but sometimes they can. So it is useful to be able to solve non-linear systems of equations reasonably fast in the modeling process."
   ]
  },
  {
   "cell_type": "markdown",
   "metadata": {},
   "source": [
    "An example of vector simplification that takes a super long time:"
   ]
  },
  {
   "cell_type": "code",
   "execution_count": 4,
   "metadata": {},
   "outputs": [
    {
     "data": {
      "text/plain": [
       "(-8*(sin(b)*cos(e) + sin(e)*sin(c + d)*cos(b))*(10*sin(b) - 7*sin(c)*cos(b) + 5*sin(e)*cos(f) + 5) + 60*((sin(a)*cos(c) + sin(b)*sin(c)*cos(a))*(sin(b)*sin(e)*sin(f) - sin(f)*sin(c + d)*cos(b)*cos(e) + cos(b)*cos(f)*cos(c + d)) - (sin(b)*cos(e) + sin(e)*sin(c + d)*cos(b))*(sin(a)*sin(b)*sin(c) - cos(a)*cos(c)) + (-sin(b)*sin(e)*cos(f) + sin(f)*cos(b)*cos(c + d) + sin(c + d)*cos(b)*cos(e)*cos(f))*sin(c)*cos(b))*(-sin(a)*cos(b)*cos(e) + sin(b)*sin(e)*cos(f) + sin(b) + sin(e)*sin(f)*cos(a)*cos(b) + 2) - 12*((sin(b)*cos(e) + sin(e)*sin(c + d)*cos(b))*sin(a)*cos(b) - (sin(b)*sin(e)*sin(f) - sin(f)*sin(c + d)*cos(b)*cos(e) + cos(b)*cos(f)*cos(c + d))*cos(a)*cos(b) + (-sin(b)*sin(e)*cos(f) + sin(f)*cos(b)*cos(c + d) + sin(c + d)*cos(b)*cos(e)*cos(f))*sin(b))*(-5*(sin(a)*cos(c) + sin(b)*sin(c)*cos(a))*sin(e)*sin(f) + 5*(sin(a)*sin(b)*sin(c) - cos(a)*cos(c))*cos(e) + 5*sin(c)*sin(e)*cos(b)*cos(f) + 5*sin(c)*cos(b) - 7) + 8*(-sin(b)*sin(e)*cos(f) + sin(f)*cos(b)*cos(c + d) + sin(c + d)*cos(b)*cos(e)*cos(f))*(7*sin(a)*sin(b)*sin(c) + 10*sin(a)*cos(b) - 7*cos(a)*cos(c) - 5*cos(e)) - 7*(7*(sin(a)*cos(c) + sin(b)*sin(c)*cos(a))*(sin(d)*cos(f) + sin(f)*cos(d)*cos(e)) - 10*(sin(d)*sin(f) - cos(d)*cos(e)*cos(f))*sin(b) + 7*(sin(d)*sin(f) - cos(d)*cos(e)*cos(f))*sin(c)*cos(b) + 10*(sin(d)*cos(f) + sin(f)*cos(d)*cos(e))*cos(a)*cos(b) + 7*(sin(a)*sin(b)*sin(c) - cos(a)*cos(c))*sin(e)*cos(d) + 10*sin(a)*sin(e)*cos(b)*cos(d) - 5*sin(d)*sin(f) + 5*cos(d)*cos(e)*cos(f))*sin(b) - 7*(7*(sin(a)*cos(c) + sin(b)*sin(c)*cos(a))*sin(e)*sin(f) - 7*(sin(a)*sin(b)*sin(c) - cos(a)*cos(c))*cos(e) - 10*sin(a)*cos(b)*cos(e) + 10*sin(b)*sin(e)*cos(f) - 7*sin(c)*sin(e)*cos(b)*cos(f) + 10*sin(e)*sin(f)*cos(a)*cos(b) + 5*sin(e)*cos(f) + 5)*sin(c)*cos(b))*A.x + (-110*(sin(a)*sin(c) - sin(b)*cos(a)*cos(c))*(sin(d)*cos(e)*cos(f) + sin(f)*cos(d)) - 110*(sin(a)*cos(c) + sin(b)*sin(c)*cos(a))*(sin(d)*sin(f) - cos(d)*cos(e)*cos(f)) + 154*(sin(a)*cos(c) + sin(b)*sin(c)*cos(a))*(sin(a)*sin(f)*cos(e)*cos(c + d) + sin(a)*sin(c + d)*cos(f) + sin(b)*sin(f)*sin(c + d)*cos(a)*cos(e) - sin(b)*cos(a)*cos(f)*cos(c + d) + sin(e)*sin(f)*cos(a)*cos(b)) + 154*(sin(a)*sin(b)*sin(c) - cos(a)*cos(c))*(sin(a)*sin(e)*cos(c + d) + sin(b)*sin(e)*sin(c + d)*cos(a) - cos(a)*cos(b)*cos(e)) - 7*(sin(a)*sin(b)*sin(c) - cos(a)*cos(c))*(7*(sin(a)*cos(c) + sin(b)*sin(c)*cos(a))*sin(e)*sin(f) - 7*(sin(a)*sin(b)*sin(c) - cos(a)*cos(c))*cos(e) - 10*sin(a)*cos(b)*cos(e) + 10*sin(b)*sin(e)*cos(f) - 7*sin(c)*sin(e)*cos(b)*cos(f) + 10*sin(e)*sin(f)*cos(a)*cos(b) + 5*sin(e)*cos(f) + 5) + 60*((sin(a)*cos(c) + sin(b)*sin(c)*cos(a))*(-sin(a)*sin(b)*sin(f)*sin(c + d)*cos(e) + sin(a)*sin(b)*cos(f)*cos(c + d) - sin(a)*sin(e)*sin(f)*cos(b) + sin(f)*cos(a)*cos(e)*cos(c + d) + sin(c + d)*cos(a)*cos(f)) + (sin(a)*sin(b)*sin(c) - cos(a)*cos(c))*(-sin(a)*sin(b)*sin(e)*sin(c + d) + sin(a)*cos(b)*cos(e) + sin(e)*cos(a)*cos(c + d)) + (sin(a)*sin(b)*sin(f)*cos(c + d) + sin(a)*sin(b)*sin(c + d)*cos(e)*cos(f) + sin(a)*sin(e)*cos(b)*cos(f) + sin(f)*sin(c + d)*cos(a) - cos(a)*cos(e)*cos(f)*cos(c + d))*sin(c)*cos(b))*(-sin(a)*cos(b)*cos(e) + sin(b)*sin(e)*cos(f) + sin(b) + sin(e)*sin(f)*cos(a)*cos(b) + 2) + 12*((-sin(a)*sin(b)*sin(e)*sin(c + d) + sin(a)*cos(b)*cos(e) + sin(e)*cos(a)*cos(c + d))*sin(a)*cos(b) - (sin(a)*sin(b)*sin(f)*cos(c + d) + sin(a)*sin(b)*sin(c + d)*cos(e)*cos(f) + sin(a)*sin(e)*cos(b)*cos(f) + sin(f)*sin(c + d)*cos(a) - cos(a)*cos(e)*cos(f)*cos(c + d))*sin(b) + (-sin(a)*sin(b)*sin(f)*sin(c + d)*cos(e) + sin(a)*sin(b)*cos(f)*cos(c + d) - sin(a)*sin(e)*sin(f)*cos(b) + sin(f)*cos(a)*cos(e)*cos(c + d) + sin(c + d)*cos(a)*cos(f))*cos(a)*cos(b))*(-5*(sin(a)*cos(c) + sin(b)*sin(c)*cos(a))*sin(e)*sin(f) + 5*(sin(a)*sin(b)*sin(c) - cos(a)*cos(c))*cos(e) + 5*sin(c)*sin(e)*cos(b)*cos(f) + 5*sin(c)*cos(b) - 7) + 220*(sin(a)*sin(e)*cos(c + d) + sin(b)*sin(e)*sin(c + d)*cos(a) - cos(a)*cos(b)*cos(e))*sin(a)*cos(b) + 8*(-sin(a)*sin(b)*sin(e)*sin(c + d) + sin(a)*cos(b)*cos(e) + sin(e)*cos(a)*cos(c + d))*(10*sin(b) - 7*sin(c)*cos(b) + 5*sin(e)*cos(f) + 5) + 8*(7*sin(a)*sin(b)*sin(c) + 10*sin(a)*cos(b) - 7*cos(a)*cos(c) - 5*cos(e))*(sin(a)*sin(b)*sin(f)*cos(c + d) + sin(a)*sin(b)*sin(c + d)*cos(e)*cos(f) + sin(a)*sin(e)*cos(b)*cos(f) + sin(f)*sin(c + d)*cos(a) - cos(a)*cos(e)*cos(f)*cos(c + d)) + 220*(-sin(a)*sin(f)*sin(c + d) + sin(a)*cos(e)*cos(f)*cos(c + d) + sin(b)*sin(f)*cos(a)*cos(c + d) + sin(b)*sin(c + d)*cos(a)*cos(e)*cos(f) + sin(e)*cos(a)*cos(b)*cos(f))*sin(b) - 154*(-sin(a)*sin(f)*sin(c + d) + sin(a)*cos(e)*cos(f)*cos(c + d) + sin(b)*sin(f)*cos(a)*cos(c + d) + sin(b)*sin(c + d)*cos(a)*cos(e)*cos(f) + sin(e)*cos(a)*cos(b)*cos(f))*sin(c)*cos(b) + 220*(sin(a)*sin(f)*cos(e)*cos(c + d) + sin(a)*sin(c + d)*cos(f) + sin(b)*sin(f)*sin(c + d)*cos(a)*cos(e) - sin(b)*cos(a)*cos(f)*cos(c + d) + sin(e)*sin(f)*cos(a)*cos(b))*cos(a)*cos(b) + 7*(7*(sin(a)*cos(c) + sin(b)*sin(c)*cos(a))*(sin(d)*cos(f) + sin(f)*cos(d)*cos(e)) - 10*(sin(d)*sin(f) - cos(d)*cos(e)*cos(f))*sin(b) + 7*(sin(d)*sin(f) - cos(d)*cos(e)*cos(f))*sin(c)*cos(b) + 10*(sin(d)*cos(f) + sin(f)*cos(d)*cos(e))*cos(a)*cos(b) + 7*(sin(a)*sin(b)*sin(c) - cos(a)*cos(c))*sin(e)*cos(d) + 10*sin(a)*sin(e)*cos(b)*cos(d) - 5*sin(d)*sin(f) + 5*cos(d)*cos(e)*cos(f))*sin(a)*cos(b) + 110*sin(e)*cos(a)*cos(b)*cos(f) + 110*cos(a)*cos(b))*A.y + (154*(sin(a)*cos(c) + sin(b)*sin(c)*cos(a))*(sin(a)*sin(b)*sin(f)*sin(c + d)*cos(e) - sin(a)*sin(b)*cos(f)*cos(c + d) + sin(a)*sin(e)*sin(f)*cos(b) - sin(f)*cos(a)*cos(e)*cos(c + d) - sin(c + d)*cos(a)*cos(f)) + 7*(sin(a)*cos(c) + sin(b)*sin(c)*cos(a))*(7*(sin(a)*cos(c) + sin(b)*sin(c)*cos(a))*sin(e)*sin(f) - 7*(sin(a)*sin(b)*sin(c) - cos(a)*cos(c))*cos(e) - 10*sin(a)*cos(b)*cos(e) + 10*sin(b)*sin(e)*cos(f) - 7*sin(c)*sin(e)*cos(b)*cos(f) + 10*sin(e)*sin(f)*cos(a)*cos(b) + 5*sin(e)*cos(f) + 5) - 110*(sin(d)*sin(f) - cos(d)*cos(e)*cos(f))*(sin(a)*sin(b)*sin(c) - cos(a)*cos(c)) + 154*(sin(a)*sin(b)*sin(c) - cos(a)*cos(c))*(sin(a)*sin(b)*sin(e)*sin(c + d) - sin(a)*cos(b)*cos(e) - sin(e)*cos(a)*cos(c + d)) + 110*(sin(a)*sin(b)*cos(c) + sin(c)*cos(a))*(sin(d)*cos(e)*cos(f) + sin(f)*cos(d)) - 60*(-(sin(a)*cos(c) + sin(b)*sin(c)*cos(a))*(sin(a)*sin(f)*cos(e)*cos(c + d) + sin(a)*sin(c + d)*cos(f) + sin(b)*sin(f)*sin(c + d)*cos(a)*cos(e) - sin(b)*cos(a)*cos(f)*cos(c + d) + sin(e)*sin(f)*cos(a)*cos(b)) + (sin(a)*sin(b)*sin(c) - cos(a)*cos(c))*(-sin(a)*sin(e)*cos(c + d) - sin(b)*sin(e)*sin(c + d)*cos(a) + cos(a)*cos(b)*cos(e)) - (sin(a)*sin(f)*sin(c + d) - sin(a)*cos(e)*cos(f)*cos(c + d) - sin(b)*sin(f)*cos(a)*cos(c + d) - sin(b)*sin(c + d)*cos(a)*cos(e)*cos(f) - sin(e)*cos(a)*cos(b)*cos(f))*sin(c)*cos(b))*(-sin(a)*cos(b)*cos(e) + sin(b)*sin(e)*cos(f) + sin(b) + sin(e)*sin(f)*cos(a)*cos(b) + 2) - 12*((-sin(a)*sin(e)*cos(c + d) - sin(b)*sin(e)*sin(c + d)*cos(a) + cos(a)*cos(b)*cos(e))*sin(a)*cos(b) + (sin(a)*sin(f)*sin(c + d) - sin(a)*cos(e)*cos(f)*cos(c + d) - sin(b)*sin(f)*cos(a)*cos(c + d) - sin(b)*sin(c + d)*cos(a)*cos(e)*cos(f) - sin(e)*cos(a)*cos(b)*cos(f))*sin(b) - (sin(a)*sin(f)*cos(e)*cos(c + d) + sin(a)*sin(c + d)*cos(f) + sin(b)*sin(f)*sin(c + d)*cos(a)*cos(e) - sin(b)*cos(a)*cos(f)*cos(c + d) + sin(e)*sin(f)*cos(a)*cos(b))*cos(a)*cos(b))*(-5*(sin(a)*cos(c) + sin(b)*sin(c)*cos(a))*sin(e)*sin(f) + 5*(sin(a)*sin(b)*sin(c) - cos(a)*cos(c))*cos(e) + 5*sin(c)*sin(e)*cos(b)*cos(f) + 5*sin(c)*cos(b) - 7) - 8*(-sin(a)*sin(e)*cos(c + d) - sin(b)*sin(e)*sin(c + d)*cos(a) + cos(a)*cos(b)*cos(e))*(10*sin(b) - 7*sin(c)*cos(b) + 5*sin(e)*cos(f) + 5) + 220*(sin(a)*sin(b)*sin(e)*sin(c + d) - sin(a)*cos(b)*cos(e) - sin(e)*cos(a)*cos(c + d))*sin(a)*cos(b) + 8*(7*sin(a)*sin(b)*sin(c) + 10*sin(a)*cos(b) - 7*cos(a)*cos(c) - 5*cos(e))*(sin(a)*sin(f)*sin(c + d) - sin(a)*cos(e)*cos(f)*cos(c + d) - sin(b)*sin(f)*cos(a)*cos(c + d) - sin(b)*sin(c + d)*cos(a)*cos(e)*cos(f) - sin(e)*cos(a)*cos(b)*cos(f)) + 220*(sin(a)*sin(b)*sin(f)*cos(c + d) + sin(a)*sin(b)*sin(c + d)*cos(e)*cos(f) + sin(a)*sin(e)*cos(b)*cos(f) + sin(f)*sin(c + d)*cos(a) - cos(a)*cos(e)*cos(f)*cos(c + d))*sin(b) - 154*(sin(a)*sin(b)*sin(f)*cos(c + d) + sin(a)*sin(b)*sin(c + d)*cos(e)*cos(f) + sin(a)*sin(e)*cos(b)*cos(f) + sin(f)*sin(c + d)*cos(a) - cos(a)*cos(e)*cos(f)*cos(c + d))*sin(c)*cos(b) + 220*(sin(a)*sin(b)*sin(f)*sin(c + d)*cos(e) - sin(a)*sin(b)*cos(f)*cos(c + d) + sin(a)*sin(e)*sin(f)*cos(b) - sin(f)*cos(a)*cos(e)*cos(c + d) - sin(c + d)*cos(a)*cos(f))*cos(a)*cos(b) - 7*(7*(sin(a)*cos(c) + sin(b)*sin(c)*cos(a))*(sin(d)*cos(f) + sin(f)*cos(d)*cos(e)) - 10*(sin(d)*sin(f) - cos(d)*cos(e)*cos(f))*sin(b) + 7*(sin(d)*sin(f) - cos(d)*cos(e)*cos(f))*sin(c)*cos(b) + 10*(sin(d)*cos(f) + sin(f)*cos(d)*cos(e))*cos(a)*cos(b) + 7*(sin(a)*sin(b)*sin(c) - cos(a)*cos(c))*sin(e)*cos(d) + 10*sin(a)*sin(e)*cos(b)*cos(d) - 5*sin(d)*sin(f) + 5*cos(d)*cos(e)*cos(f))*cos(a)*cos(b) + 110*sin(a)*sin(e)*cos(b)*cos(f) + 110*sin(a)*cos(b))*A.z"
      ]
     },
     "execution_count": 4,
     "metadata": {},
     "output_type": "execute_result"
    }
   ],
   "source": [
    "from sympy.abc import a, b, c, d, e, f\n",
    "from sympy.physics.mechanics import ReferenceFrame\n",
    "\n",
    "A = ReferenceFrame('A')\n",
    "B = A.orientnew('B', 'Body', (a, b, c), 'XYZ')\n",
    "C = B.orientnew('C', 'Body', (d, e, f), 'ZXZ')\n",
    "D = C.orientnew('D', 'Body', (a, b, c), 'YZX')\n",
    "\n",
    "v = 10 * D.x + 5 * C.y + 5 * B.z + 7 * D.z\n",
    "w = 22 * A.x + 7 * B.x + 8 * C.x + 12 * D.y\n",
    "x = v.cross(w)\n",
    "\n",
    "x.express(A).simplify()"
   ]
  },
  {
   "cell_type": "markdown",
   "metadata": {},
   "source": [
    "# Step 2: From the Equations of Motion"
   ]
  },
  {
   "cell_type": "markdown",
   "metadata": {},
   "source": [
    "The next step is to take the system description and to formulate the second order ordinary differential equations or the second order differential algebraic equations. The canonical form and method is the Newton-Euler method which gives:"
   ]
  },
  {
   "cell_type": "markdown",
   "metadata": {},
   "source": [
    "$\\sum F = \\frac{dp}{dt}$"
   ]
  },
  {
   "cell_type": "markdown",
   "metadata": {},
   "source": [
    "$\\sum F = \\frac{dH}{dt}$"
   ]
  },
  {
   "cell_type": "markdown",
   "metadata": {},
   "source": [
    "- $\\sum F$: The sum of all the forces on the system.\n",
    "- $p$: The linear momentum of the system.\n",
    "- $t$: Time.\n",
    "- $\\sum T$: The sum of all of the Torques on the system.\n",
    "- $H$: The angular momentum of the system."
   ]
  },
  {
   "cell_type": "markdown",
   "metadata": {},
   "source": [
    "These equations can be formulated from the system specifications by a number of methods (Lagrangian dynamics, Hamiltonian dynamics, Newton-Euler, Kane's Method, Featherstone/Jain method, etc). The resulting equations from any method are mathematically equivalent but each method produces equations that have differences in mathematical (symbolic) complexity and each method takes a different amount of symbolic computation time. Today, leading methods used in dynamical software packages are Kane's Method and the Featherstone/Jain method. This step involves computing derivatives, solving linear system of equations, lots of vector operations, etc."
   ]
  },
  {
   "cell_type": "markdown",
   "metadata": {},
   "source": [
    "SymPy support automated for Kane and Lagrangian. For complex systems of fewer than ~20 bodies this step can take minutes. For very large systems this can take hours of computation time. This can be seen from the results of"
   ]
  },
  {
   "cell_type": "markdown",
   "metadata": {},
   "source": [
    "$ python pydy/bin/benchmark_pydy_code_gen.py 30 100"
   ]
  },
  {
   "cell_type": "markdown",
   "metadata": {},
   "source": [
    "Or simply:"
   ]
  },
  {
   "cell_type": "code",
   "execution_count": 7,
   "metadata": {},
   "outputs": [],
   "source": [
    "from pydy.models import n_link_pendulum_on_cart"
   ]
  },
  {
   "cell_type": "code",
   "execution_count": 8,
   "metadata": {},
   "outputs": [
    {
     "name": "stdout",
     "output_type": "stream",
     "text": [
      "Wall time: 281 ms\n"
     ]
    }
   ],
   "source": [
    "%time sys = n_link_pendulum_on_cart(1)"
   ]
  },
  {
   "cell_type": "code",
   "execution_count": 9,
   "metadata": {},
   "outputs": [
    {
     "name": "stdout",
     "output_type": "stream",
     "text": [
      "Wall time: 601 ms\n"
     ]
    }
   ],
   "source": [
    "%time sys = n_link_pendulum_on_cart(5)"
   ]
  },
  {
   "cell_type": "code",
   "execution_count": 10,
   "metadata": {},
   "outputs": [
    {
     "name": "stdout",
     "output_type": "stream",
     "text": [
      "Wall time: 2.37 s\n"
     ]
    }
   ],
   "source": [
    "%time sys = n_link_pendulum_on_cart(10)"
   ]
  },
  {
   "cell_type": "code",
   "execution_count": 11,
   "metadata": {},
   "outputs": [
    {
     "name": "stdout",
     "output_type": "stream",
     "text": [
      "Wall time: 17.9 s\n"
     ]
    }
   ],
   "source": [
    "%time sys = n_link_pendulum_on_cart(20)"
   ]
  },
  {
   "cell_type": "code",
   "execution_count": 12,
   "metadata": {},
   "outputs": [
    {
     "name": "stdout",
     "output_type": "stream",
     "text": [
      "Wall time: 1min 1s\n"
     ]
    }
   ],
   "source": [
    "%time sys = n_link_pendulum_on_cart(30)"
   ]
  },
  {
   "cell_type": "markdown",
   "metadata": {},
   "source": [
    "The above computes the equations of motion of the classic 2D multi-link pendulum problem for 1 to 30 links. The time to form the equations of motions increases quadratically with time using SymPy's KanesMethod class. The speed of this process isn't a huge deal for one models where step 1 takes the lion's share of the time. But the speed of this step becomes critical if you'd like to support specifying the system through a GUI tool (long term goal of PyDy). The equations of motion would likely have to be regenerated on the fly for changes in the physical specification of the system in the GUI tool. So speeding up this will allow a new ways of quickly building models. Furthermore, there are likely opportunities to parallelize the formulation of equations of motion."
   ]
  },
  {
   "cell_type": "markdown",
   "metadata": {},
   "source": [
    "Lastly, for system with small number of bodies and constraints (<5 or so) it may be useful to inspect the equations of motion in it's analytical form. So viewing a simplified form of the equations is very helpful."
   ]
  },
  {
   "cell_type": "markdown",
   "metadata": {},
   "source": [
    "# 初次编辑日期"
   ]
  },
  {
   "cell_type": "markdown",
   "metadata": {},
   "source": [
    "2018年5月3日"
   ]
  },
  {
   "cell_type": "markdown",
   "metadata": {},
   "source": [
    "# 参考文献"
   ]
  },
  {
   "cell_type": "markdown",
   "metadata": {},
   "source": [
    "[1] https://github.com/pydy/pydy/wiki/PyDy-Speed"
   ]
  }
 ],
 "metadata": {
  "kernelspec": {
   "display_name": "Python 3",
   "language": "python",
   "name": "python3"
  },
  "language_info": {
   "codemirror_mode": {
    "name": "ipython",
    "version": 3
   },
   "file_extension": ".py",
   "mimetype": "text/x-python",
   "name": "python",
   "nbconvert_exporter": "python",
   "pygments_lexer": "ipython3",
   "version": "3.6.5"
  }
 },
 "nbformat": 4,
 "nbformat_minor": 2
}
