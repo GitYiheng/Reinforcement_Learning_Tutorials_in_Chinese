{
 "cells": [
  {
   "cell_type": "markdown",
   "metadata": {},
   "source": [
    "So far we have represented the utility function by a lookup table (or matrix if you prefer). This approach has a problem. When the underlying Markov decision process is large there are too many states and actions to store in memory. Moreover in this case it is extremely difficult to visit all the possible states, meaning that we cannot estimate the utility values for those states. The key issue is **generalization**: how to produce a good approximation of a large state space experiencing only a small subset. In this article I will show you how to use a **linear combination of features** in order to approximate the utility function. This new technique will allow us to master new and old problems more efficiently. For example, in this post you will learn how to implement a linear version of the TD(0) algorithm and how to use it to find the utilities of multiple gridworlds."
   ]
  },
  {
   "cell_type": "markdown",
   "metadata": {},
   "source": [
    "# Approximators (and Grandmothers)"
   ]
  },
  {
   "cell_type": "markdown",
   "metadata": {},
   "source": [
    "You couldn't read this post without using a powerful approximator: your brain. The first primordial brains, a bunch of nerve cells, gave a great advantage allowing elementary creatures to better perceive and react, considerably extending their lifespan. Evolution shaped brains for thousands of years optimising size, modularity, and connectivity. Having a brain seems a big deal. Why? **What's the purpose of having a brain?** We can consider the world as a huge and chaotic state-space, where the correct evaluation of a specific stimulus makes the difference between life and death. The brain stores information about the environment and allows an effective interaction with it. Let us suppose that our brain is a massive lookup table, which can store in a single neuron (or cell) a single state. This is known as **local representation**. This theory is often called the **grandmother cell**. A grandmother cell is a hypothetical neuron that responds only to a specific and meaningful stimulus, such as the image of one's grandmother. The term is due to the cognitive scientist Jerry Lettvin who used it to illustrate the inconsistency of the concept during a lecture at MIT. To describe the grandmother cell theory I will use the following example. Let's suppose we bring a subject in an isolated room. The activity of a group of neurons in the subject brain is constantly monitored. In front of the subject there is a screen. Showing to the subject the picture of his grandmother we notice that a specific neuron fires. Showing the grandmother in different contexts (e.g. in a group picture) activates again the neuron. However showing on screen a neutral stimulus does not activate the neuron.\n",
    "\n",
    "<img src=\"files/figures/reinforcement_learning_function_approximation_experiment_neuron_grandmother.png\" style=\"width: 500px;\" />\n",
    "\n",
    "During the 1970s the grandmother cell moved into neuroscience journals and a proper scientific discussion started. In the same period Gross et al. (1972) observed neurons in the inferior temporal cortex of the monkey that fired selectively to hands and faces. The grandmother cell theory started to be seriously taken into account. The theory was appealing because **simple to grasp and pretty intuitive**. However, a theoretical analysis of the grandmother cell confirmed many underlying weaknesses. For instance, in this framework the loss of a cell means the loss of a specific chunk of information. Basic neurobiological observations strongly suggest the opposite. It is possible to hypothesise multiple grandmother cells, which codify the same information in a distributed way. Redundancy prevents loss. This explanation complicate the situation even more, because storing a single state requires mltiple entries in the lookup table. To store $N$ states without the risk of information loss, at least $2 \\times N$ cells are required. The paradox of the grandmother cell is that trying to simplify the brain functioning, it finishes to complicate it.\n",
    "\n",
    "There is an alternative to the grandmother cell hypothesis? We can suppose that information is stored in a distributed way, and that each single concept is represented through a **pattern of activity**. This theory was strongly sustained by researchers such as Geoffrey Hinton (one of the \"godfather\" of deep learning), and James McClelland. The **distributed representation** theory gives a big advantage. Having $N$ cells it is possible to represent more than $N$ states, whereas this is not true for a local representation. Moreover a distributed representation is robust against loss and it guarantees an implicit redundancy. Even though each active unit is less specific in its meaning, the combination of active units is far more specific. To understand the difference between the two representations think about a **computer keyboard**. In the local representation each single key can codify only a single character. In the distributed representation we can use a combination of keys (e.g. Shift and Ctrl) to associate multile characters to the same key. In the image below (inspired by Hinton, 1984) is represented how two stimuli (red and green dots) are codified in a local and distributed scheme. The local scheme is represented as a two dimensional grid, where it is always necessary to have two active units to codify a stimulus. We can think the distributed representation as an overlapping between radial units. The two stimuli are codified through a high level pattern given by the units enclosed in a specific activation radius.\n",
    "\n",
    "<img src=\"files/figures/reinforcement_learning_function_approximation_local_vs_distributed_representation.png\" style=\"width: 500px;\" />\n",
    "\n",
    "How is it possible to explain the monkey selective-neurons described by Gross et al. (1972) using a distributed representation? A selective-neuron can be the visible part of an underlying network which encapsulate the information. Further research showed that those selective neurons had a large variation in their responsiveness and that it was connected to different aspects of faces. This observation suggested that those neurons embedded a distributed representation of faces.\n",
    "\n",
    "If you think that the grandmother cell theory is something born and dead in the seventies you are wrong. In recent years the local representation theory received support from biological observation (Bowers, 2009), however these results have been strongly criticised by Plaut and McClelland (2009). From a machine learning perspective we know that the distributed representation works. The success of deep learning is based on neural networks, which are powerful function approximators. Moreover different methods, such as dropout, are tightly related to the distributed representation theory. Now it's time to go back to reinforcement learning, and see how a distributed representation can solve the problem due to local representation."
   ]
  },
  {
   "cell_type": "markdown",
   "metadata": {},
   "source": [
    "# Function Approximation Intuition"
   ]
  },
  {
   "cell_type": "markdown",
   "metadata": {},
   "source": [
    "Here I will use again the **robot cleaning example** described before. The robot moves in a two-dimensional world we called gridworld. It has only 4 possible actions available (forward, backward, left, right) and its goal is to reach a charger (green cell) and avoid to fall on stairs (red cell). I define with $U(s)$ our usual utility function, and with $Q(s, a)$ the state-action function. The grid-world is a discrete rectangular state space, having $c$ columns and $r$ rows. Using a tabular approach we can represent $U(s)$ using a table containing $r \\times c = N$ elements, where $N$ represent the total number of states. To represent $Q(s, a)$ we need a table of size $N \\times M$, where $M$ is the total number of actions. Previously, I always represented the **lookup tables** using **matrices**. As utility function I used a matrix having the same size of the world, whereas for the state-action function I used a matrix having $N$ columns (states) and $M$ rows (actions). In the first case, to get the utility we have to access the location of the matrix corresponding to the particular state where we are. In the second case, we use the state as index to access the column in the state-action matrix and from that column we return the utilities of all the available actions.\n",
    "\n",
    "<img src=\"files/figures/reinforcement_learning_function_approximation_lookup_tables.png\" style=\"width: 500px;\" />\n",
    "\n",
    "How can we fit the function approximation mechanism inside this scheme? Let's start with some definitions. Defining as $S=\\{ s_1, s_2, \\ldots, s_N \\}$ the set of possible states, and as $A = \\{ a_1, a_2, \\ldots, s_M \\}$ the set of possible actions, we define a utility function approximator $\\hat{U}(S, \\boldsymbol{w})$ having parameters stored in a vector $\\boldsymbol{w}$. Here I use the hat on top of $\\hat{U}$ to differentiate this function from the tabular version $U$.\n",
    "\n",
    "Before explaining how to create a function approximator it is helpful to visualise it as a **black box**. The method described below can be used on different approximators and for this reason we can easily apply it to the box content. The black box takes as input the current state and returns the utility of the state or the state-action utilities. That's it. The main advantage is that we can approximate (with an arbitrary small error) the utilities using less parameters respect to the tabular approach. We can say that the number of elements stored in the vector $\\boldsymbol{w}$ is smaller than $N$ the number of values in the tabular counterpart.\n",
    "\n",
    "<img src=\"files/figures/reinforcement_learning_function_approximation_black_boxes.png\" style=\"width: 500px;\" />\n",
    "\n",
    "I guess there is a question that came to your head: **what there is inside the black box?** This is a legitimate question and now I will try to give you the intuition. In the case of a blackbox that is approximating an utility function, the content of the box is $\\hat{U}(s, \\boldsymbol{w})$. You can imagine the **utility function** as a **music mixer** and the **vector of weights** $\\boldsymbol{w}$ as the mixer **sliders**. We want to adjust the sliders in order to obtain a sound which is similar to a predefined tone. How to do it? Well we can move one of the slider and compare the output with the reference tone. How to do it? Well we can move one of the slider and compare the output with the reference tone. If the output is more similar to the reference we know that we moved the right slider. Repeating this process many times we eventually obtain a tone which is very similar to the reference sound. Using a more formal view we can say that the vector $\\boldsymbol{w}$ is adjusted at every iteration, moving the values of a quantity $\\Delta$, in order to reach an objective which is minimising a function of cost. The cost is given by an **error measure** that we can obtain comparing the output of the function with a target. For instance, we know from previous posts that the actual utility value of state (4, 1) in our gridworld is 0.388. Let's say that at time $t$ the output of the box is 0.352. After the **update step** the output will be 0.371, we moved closer to the target value.\n",
    "\n",
    "<img src=\"files/figures/reinforcement_learning_function_approximation_weights_update_intuition.png\" style=\"width: 500px;\" />\n",
    "\n",
    "Function approximation is an instance of supervised learning. In principle all the supervised learning techniques could be used in function approximation. The vector $\\boldsymbol{w}$ may be the set of connection weights of a neural network or the split points and leaf values of a decision tree. However here I will consider only **differentiable** function approximators such as linear combination of features and neural networks, which represents the most promising techniques nowadays. In this article I will focus on linear combination of features.\n",
    "\n",
    "<img src=\"files/figures/reinforcement_learning_function_approximation_methods_overview.png\" style=\"width: 500px;\" />\n",
    "\n",
    "Before describing the simplest case the **linear approximator**, I would like to introduce the general methodology used to adjust the vector of weights. The goal in function approximation is to move as close as possible to the real utility function adjusting the internal parameters stored in $\\boldsymbol{w}$. To achieve this goal we need two things, first an **error measure** that can give us a feedback on how close we are to the target, second an **update rule** for adjusting the weights. In the next section I will describe these two components."
   ]
  },
  {
   "cell_type": "markdown",
   "metadata": {},
   "source": [
    "# Method"
   ]
  },
  {
   "cell_type": "markdown",
   "metadata": {},
   "source": [
    "To improve the performance of our function approximator we need an error measure and an update rule. These two components work tightly in the learning cycle of every supervised learning technique. Their use in reinforcement learning is not much different from how they are used in a classification task. In order to understand this section you need to refresh some concepts of multivariable calculus such as the partial derivative and gradient.\n",
    "\n",
    "<img src=\"files/figures/reinforcement_learning_function_approximation_training_cycle.png\" style=\"width: 500px;\" />\n",
    "\n",
    "** Error Measure**: a common error measure is given by the **Mean Squared Error (MSE)** between two quantities. For instance, if we have the optimal utility function $U^{\\ast}(s)$ and an approximator function $\\hat{U}(s, \\boldsymbol{w})$, then the MSE is defined as follows:\n",
    "\n",
    "$$MSE(\\boldsymbol{w}) = \\frac{1}{N} \\sum_{s \\in S} [U^{\\ast}(s) - \\hat{U}(s, \\boldsymbol{w})]^2$$\n",
    "\n",
    "That's it, the MSE is given by the expectation $\\mathbb{E}[(U^{\\ast}(s)-\\hat{U}(s, \\boldsymbol{w}))^2]$ that quantifies the difference between the target and the approximator output. When the training is working correctly the MSE will decrease meaning that we are getting closer to the optimal utility function. The MSE is a common loss function used in supervised learning. However, in reinforcement learning it is often used a reinterpretation of the MSE called **Mean Squared Value Error (MSVE)**. The MSVE introduce a distribution $\\mu (s) \\geq 0$ that specifies how much we care about each state $s$. As I told you the function approximator is based on a set of weights $\\boldsymbol{w}$ that contains less elements than the total number of states. For this reason adjusting a subset of the weights means improving the utility prediction of some states but loosing precision in others. We have limited resources and we have to manage them carefully. The function $\\mu (s)$ gives us an explicit solution and using it we can rewrite the previous equation as follows:\n",
    "\n",
    "$$MSVE(\\boldsymbol{w}) = \\frac{1}{N} \\sum_{s \\in S} \\mu (s) [U^{\\ast}(s) - \\hat{U} (s, \\boldsymbol{w})]^2$$\n",
    "\n",
    "**Update rule**: the update rule for differentiable approximator is gradient descent. The gradient is a generalisation of the concept of derivative applied to scalar-valued functions of multiple variables. You can imagine the gradient as the vector that points in the direction of the greatest rate of increase. Intuitively, if you want to reach the top of a mountain the gradient is the signpost that is generally represented with the operator $\\nabla$ also known as **nabla**. The goal in gradient descent is to minimise the error measure. We can achieve this goal moving in the direction of the negative gradient vector, meaning that we are not moving anymore to the top of the mountain but downslope. At each step we adjust the parameter vector $\\boldsymbol{w}$ moving a step closer to the valley. First of all, we have to estimate the gradient vector for MSE($\\boldsymbol{w}$) or MSVE($\\boldsymbol{w}$). Those error functions are based on $\\boldsymbol{w}$. In order to get the gradient vector we have to calculate the partial derivative of each weight with respect to all the other weights. Secondly, once we have the gradient vector we have to adjust the value of all the weights in accordance with the negative direction of the gradient. In mathematical terms, we can update the vector $\\boldsymbol{w}$ at $t+1$ as follows:\n",
    "\n",
    "\\begin{split}\n",
    "\\boldsymbol{w}_{t+1} & = \\boldsymbol{w}_t - \\frac{1}{2} \\alpha \\nabla_{\\boldsymbol{w}} MSE(\\boldsymbol{w}_t) \\\\\n",
    "& = \\boldsymbol{w}_t - \\frac{1}{2} \\alpha \\nabla_{\\boldsymbol{w}} \\left[ U^{\\ast}(s) - \\hat{U} (s, \\boldsymbol{w}_t) \\right]^2 \\\\\n",
    "& = \\boldsymbol{w}_t + \\alpha \\left[ U^{\\ast}(s) - \\hat{U}(s, \\boldsymbol{w}_t) \\right] \\nabla_{\\boldsymbol{w}}\\hat{U}(s, \\boldsymbol{w}_t)\n",
    "\\end{split}\n",
    "\n",
    "The last step is an application of the **chain rule** that is necessary because we are dealing with a function composition. We want to find the gradient vector of the error function with respect to the weights, and the weights are part of our function approximator $\\hat{U}(s, \\boldsymbol{w}_t)$. The minus sign in front of the quantity $\\frac{1}{2}$ is used to change the direction of the gradient vector. Remember that the gradient points to the top of the hill, while we want to go to the bottom (minimizing the error). In conclusion the update rule is telling us that all we need is the output of the approximator and its gradient. Finding the gradient of a linear approximator is particularly easy, whereas in non-linear approximators (e.g. neural networks) it requires more steps.\n",
    "\n",
    "At this point you might think we have all we need to start the learning procedure, however there is an important part missing. We supposed it was possible to use the optimal utility function $U^{\\ast}$ as target in the error estimation step. **We do not have the optimal utility function**. Think about that, having this function would mean we do not need an approximator at all. Moving in our gridworld we could simply call $U^{\\ast}(s_t)$ at each time step $t$ and get the actual utility value of that state. What we can do to overcome this problem is to build a target function $U^{\\sim}$ which represent an **approximated target** and plug it in our formula:\n",
    "\n",
    "$$\\boldsymbol{w}_{t+1} = \\boldsymbol{w}_t + \\alpha \\left[ U^{\\sim}(s) - \\hat{U} (s, \\boldsymbol{w}) \\right] \\nabla_{\\boldsymbol{w}} \\hat{U} (s, \\boldsymbol{w})$$\n",
    "\n",
    "How can we estimate the approximated target? We can follow different approaches, for instance using Monte Carlo or TD learning. In the next section I will introduce these methods."
   ]
  },
  {
   "cell_type": "markdown",
   "metadata": {},
   "source": [
    "# Target Estimation"
   ]
  },
  {
   "cell_type": "markdown",
   "metadata": {},
   "source": [
    "In the previous section we came to the conclusion that we need approximated target functions $U^{\\sim}(s)$ and $Q^{\\sim}(s, a)$ to use in the error evaluation and update rule. The type of target used is at the heart of function approximation in reinforcement learning. There are two main approaches:\n",
    "\n",
    "**Monte Carlo target**: an approximated value for the target can be obtained through a direct interaction with the environment. Using a Monte Carlo approach we can generate an episode and update the function $U^{\\sim} (s)$ based on the states encountered along the way. The estimation of the optimal function $U^{\\ast} (s)$ is unbiased because $\\mathbb{E}[U^{\\sim} (s)] = U^{\\ast}(s)$, meaning that the *prediction is guaranteed to converge*.\n",
    "\n",
    "**Bootstrapping target**: the other approach used to build the target is called bootstrapping. In bootstrapping methods we do not have to complete an episode for getting an estimation of the target, we can directly update the approximator parameters after each visit. The simplest form of bootstrapping is the one based on TD(0) which is defined as follows:\n",
    "\n",
    "$$U^{\\sim}(s_t)=\\hat{U}(s_{t+1}, \\boldsymbol{w}) \\qquad Q^{\\sim}(s_t, a)=\\hat{Q}(s_{t+1}, a, \\boldsymbol{w})$$\n",
    "\n",
    "That's it, the target is obtained through the approximation given by the estimator itself at $s_{t+1}$.\n",
    "\n",
    "I have already written about the difference between the two approaches, however here I would like to discuss it again in the new context of function approximation. In both cases the functions $U^{\\sim}(s)$ and $Q^{\\sim}(s, a)$ are based on the vector of weights $\\boldsymbol{w}$. For this reason the correct notation we are going to use from now on is $U^{\\sim}(s, \\boldsymbol{w})$ and $Q^{\\sim}(s, a, \\boldsymbol{w})$. We have to be particularly careful when using the bootstrapping methods in gradient-based approximators. Bootstrapping methods are not true instances of gradient descent because they only care about the parameters in $\\hat{U}(s, \\boldsymbol{w})$. At training time we adjust $\\boldsymbol{w}$ in the estimator $\\hat{U}(s, \\boldsymbol{w})$ based on a measure of error but we are not changing the parameters in the target function $U^{\\sim}(s, \\boldsymbol{w})$ based on an error measure. Bootstrapping ignores the effect on the target, taking into account only the gradient of the estimation. For this reason bootstrapping techniques are called **semi-gradient methods**. Due to this issue semi-gradient methods **does not guarantee the convergence**. At this point you may think that it is better to use Monte Carlo methods because at least they are guaranteed to converge. Bootstrapping gives two main advantages. First of all they learn online and it is not required to complete the episode in order to update the weights. Secondly they are faster to learn and computationally friendly.\n",
    "\n",
    "The **Generalised Policy Iteration (GPI)** applies here as well. Let's suppose we start with a random set of weights. At the very first step the agent follows an epsilon-greedy strategy moving in the state with the highest utility. After the first step it is possible to update the weights using gradient descent. What's the effect of this adjustment? The effect is to slightly improve the utility function. At the next step the agent follows again a greedy strategy, then the weights are updated through gradient descent, and so on and so forth. As you can see we are applying the GPI scheme again."
   ]
  },
  {
   "cell_type": "markdown",
   "metadata": {},
   "source": [
    "# 初次编辑日期 (Initial Edit Date)"
   ]
  },
  {
   "cell_type": "markdown",
   "metadata": {},
   "source": [
    "2018年6月3日"
   ]
  },
  {
   "cell_type": "markdown",
   "metadata": {},
   "source": [
    "# 参考文献 (References)"
   ]
  },
  {
   "cell_type": "markdown",
   "metadata": {},
   "source": [
    "[1] https://mpatacchiola.github.io/blog/2017/12/11/dissecting-reinforcement-learning-7.html"
   ]
  }
 ],
 "metadata": {
  "kernelspec": {
   "display_name": "Python 3",
   "language": "python",
   "name": "python3"
  },
  "language_info": {
   "codemirror_mode": {
    "name": "ipython",
    "version": 3
   },
   "file_extension": ".py",
   "mimetype": "text/x-python",
   "name": "python",
   "nbconvert_exporter": "python",
   "pygments_lexer": "ipython3",
   "version": "3.6.5"
  }
 },
 "nbformat": 4,
 "nbformat_minor": 2
}
