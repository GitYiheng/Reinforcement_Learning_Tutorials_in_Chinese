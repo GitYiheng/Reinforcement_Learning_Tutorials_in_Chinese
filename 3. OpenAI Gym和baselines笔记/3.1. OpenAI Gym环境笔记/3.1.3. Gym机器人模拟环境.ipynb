{
 "cells": [
  {
   "cell_type": "markdown",
   "metadata": {},
   "source": [
    "# 简介"
   ]
  },
  {
   "cell_type": "markdown",
   "metadata": {},
   "source": [
    "OpenAI Gym在2018年2月发布了4个机械臂和4个机械手的模拟环境，这些模拟环境都是基于MuJoCo物理模拟器的。随后OpenAI也发布了一篇报告来推广和注释新推出的模拟环境：\n",
    "\n",
    "Plappert, M., Andrychowicz, M., Ray, A., McGrew, B., Baker, B., Powell, G., Schneider, J., Tobin, J., Chociej, M., Welinder, P. and Kumar, V., 2018. Multi-Goal Reinforcement Learning: Challenging Robotics Environments and Request for Research. arXiv preprint arXiv:1802.09464."
   ]
  },
  {
   "cell_type": "markdown",
   "metadata": {},
   "source": [
    "# 抓取环境（Fetch Environment）"
   ]
  },
  {
   "cell_type": "markdown",
   "metadata": {},
   "source": [
    "## Reaching (FetchReach):\n",
    "\n",
    "<img src=\"files/figures/fetch-reach.png\" style=\"width: 500px;\" />\n",
    "\n",
    "The task is to move the gripper to a target position. This task is very easy to learn and is therefore a suitable benchmark to ensure that a new idea works at all.\n",
    "\n",
    "任务是把夹爪移到目标位置。这个任务非常容易学习，所以是验证新想法合适的基准任务。"
   ]
  },
  {
   "cell_type": "markdown",
   "metadata": {},
   "source": [
    "## Pushing (FetchPush):\n",
    "\n",
    "<img src=\"files/figures/fetch-push.png\" style=\"width: 500px;\" />\n",
    "\n",
    "A box is placed on a table in front of the robot and the task is to move it to a target location on the table. The robot fingers are locked to prevent grasping. The learned behavior is usually a mixture of pushing and rolling.\n",
    "\n",
    "一个盒子被放在机器人前的桌上，这里的任务就是把盒子移动到桌子上的目标位置。为了防止做出抓取动作，机器人的手指被固定在了一起。学到的行为往往是推和滚动的结合。"
   ]
  },
  {
   "cell_type": "markdown",
   "metadata": {},
   "source": [
    "## Sliding (FetchSlide):\n",
    "\n",
    "<img src=\"files/figures/fetch-slide.png\" style=\"width: 500px;\" />\n",
    "\n",
    "A puck is placed on a long slippery table and the target position is outside of the robot’s reach so that it has to hit the puck with such a force that it slides and then stops at the target location due to friction.\n",
    "\n",
    "一个冰球被放置在一个又长又滑的桌子上，因为目标位置是在机器人够不到的地方，所以机器人必须要用合适的力来击打冰球来让冰球由于摩擦力停在目标位置。"
   ]
  },
  {
   "cell_type": "markdown",
   "metadata": {},
   "source": [
    "## Pick & Place (FetchPickAndPlace):\n",
    "\n",
    "<img src=\"files/figures/fetch-pickandplace.png\" style=\"width: 500px;\" />\n",
    "\n",
    "The task is to grasp a box and move it to the target location which may be located on the table surface or in the air above it.\n",
    "\n",
    "这个任务的目标是抓取一个盒子并把它移动到目标位置，目标位置可能是在桌面上也可能在空中。"
   ]
  },
  {
   "cell_type": "markdown",
   "metadata": {},
   "source": [
    "# 机械手环境（Hand Environment）"
   ]
  },
  {
   "cell_type": "markdown",
   "metadata": {},
   "source": [
    "## Reaching (HandReach):\n",
    "\n",
    "<img src=\"files/figures/hand-reach.png\" style=\"width: 500px;\" />\n",
    "\n",
    "A simple task in which the goal is 15-dimensional and contains the target Cartesian position of each fingertip of the hand. Similarly to the FetchReach task, this task is relatively easy to learn. A goal is considered achieved if the mean distance between fingertips and their desired position is less than 1 cm.\n",
    "\n",
    "一个简单的任务的目标包含了15个维度，这15维对应了手的每个指尖的笛卡尔位置坐标。与FetchReach任务类似，这个任务相对来说学起来比较简单。如果指尖离它们各自的目标位置的平均距离小于1厘米，那么我们就认为目标达成了。"
   ]
  },
  {
   "cell_type": "markdown",
   "metadata": {},
   "source": [
    "## Block manipulation (HandManipulateBlock):\n",
    "\n",
    "<img src=\"files/figures/hand-block.png\" style=\"width: 500px;\" />\n",
    "\n",
    "In the block manipulation task, a block is placed on the palm of the hand. The task is to then manipulate the block such that a target pose is achieved. The goal is 7-dimensional and includes the target position (in Cartesian coordinates) and target rotation (in quaternions). We include multiple variants with increasing levels of difficulty:\n",
    "\n",
    "* HandManipulateBlockRotateZ Random target rotation around the z axis of the block. No target position.\n",
    "* HandManipulateBlockRotateParallel Random target rotation around the z axis of the block and axis-aligned target rotations for the x and y axes. No target position.\n",
    "* HandManipulateBlockRotateXYZ Random target rotation for all axes of the block. No target position.\n",
    "* HandManipulateBlockFull Random target rotation for all axes of the block. Random target position.\n",
    "\n",
    "A goal is considered achieved if the distance between the block’s position and its desired position is less than 1 cm (applicable only in the Full variant) and the difference in rotation is less than 0.1 rad."
   ]
  },
  {
   "cell_type": "markdown",
   "metadata": {},
   "source": [
    "## Egg manipulation (HandManipulateEgg):\n",
    "\n",
    "<img src=\"files/figures/hand-egg.png\" style=\"width: 500px;\" />\n",
    "\n",
    "The objective here is similar to the block task but instead of a block an egg-shaped object is used. We find that the object geometry makes a significant differences in how hard the problem is and the egg is probably the easiest object. The goal is again\n",
    "7-dimensional and includes the target position (in Cartesian coordinates) and target rotation (in quaternions). We include multiple variants with increasing levels of difficulty:\n",
    "\n",
    "* HandManipulateEggRotate Random target rotation for all axes of the egg. No target position.\n",
    "* HandManipulateEggFull Random target rotation for all axes of the egg. Random target position.\n",
    "\n",
    "A goal is considered achieved if the distance between the egg’s position and its desired position is less than 1 cm (applicable only in the Full variant) and the difference in rotation is less than 0.1 rad."
   ]
  },
  {
   "cell_type": "markdown",
   "metadata": {},
   "source": [
    "## Pen manipulation (HandManipulatePen):\n",
    "\n",
    "<img src=\"files/figures/hand-pen.png\" style=\"width: 500px;\" />\n",
    "\n",
    "Another manipulation, this time using a pen instead of a block or an egg. Grasping the pen is quite hard since it easily falls off the hand and can easily collide and get stuck between other fingers. The goal is 7-dimensional and includes the target position (in Cartesian coordinates) and target rotation (in quaternions). We include multiple variants with increasing levels of difficulty:\n",
    "\n",
    "* HandManipulatePenRotate Random target rotation x and y axes of the pen and no target rotation around the z axis. No target position.\n",
    "* HandManipulatePenFull Random target rotation x and y axes of the pen and no target rotation around the z axis. Random target position.\n",
    "\n",
    "A goal is considered achieved if the distance between the pen’s position and its desired position is less than 5 cm (applicable only in the Full variant) and the difference in rotation, ignoring the z\n",
    "axis, is less than 0.1 rad."
   ]
  },
  {
   "cell_type": "markdown",
   "metadata": {},
   "source": [
    "# 初次编辑日期"
   ]
  },
  {
   "cell_type": "markdown",
   "metadata": {},
   "source": [
    "2018年5月12日"
   ]
  },
  {
   "cell_type": "markdown",
   "metadata": {},
   "source": [
    "# 参考文献"
   ]
  },
  {
   "cell_type": "markdown",
   "metadata": {},
   "source": [
    "[1] https://blog.openai.com/ingredients-for-robotics-research/\n",
    "\n",
    "[2] Plappert, M., Andrychowicz, M., Ray, A., McGrew, B., Baker, B., Powell, G., Schneider, J., Tobin, J., Chociej, M., Welinder, P. and Kumar, V., 2018. Multi-Goal Reinforcement Learning: Challenging Robotics Environments and Request for Research. arXiv preprint arXiv:1802.09464."
   ]
  }
 ],
 "metadata": {
  "kernelspec": {
   "display_name": "Python 3",
   "language": "python",
   "name": "python3"
  },
  "language_info": {
   "codemirror_mode": {
    "name": "ipython",
    "version": 3
   },
   "file_extension": ".py",
   "mimetype": "text/x-python",
   "name": "python",
   "nbconvert_exporter": "python",
   "pygments_lexer": "ipython3",
   "version": "3.6.5"
  }
 },
 "nbformat": 4,
 "nbformat_minor": 2
}
